{
 "cells": [
  {
   "cell_type": "code",
   "execution_count": 2,
   "id": "da98704b-377a-4b04-9ab2-6e6df0432bec",
   "metadata": {},
   "outputs": [],
   "source": [
    "import numpy as np"
   ]
  },
  {
   "cell_type": "code",
   "execution_count": 8,
   "id": "171b1cc0-580f-4348-89c3-0c529f5d12aa",
   "metadata": {},
   "outputs": [
    {
     "data": {
      "text/plain": [
       "(2, 3)"
      ]
     },
     "execution_count": 8,
     "metadata": {},
     "output_type": "execute_result"
    }
   ],
   "source": [
    "W=np.array([[1,2,3],[3,4,5]])\n",
    "W.shape\n",
    "#W.shape[0]"
   ]
  },
  {
   "cell_type": "code",
   "execution_count": 9,
   "id": "9abf80d9-8c2e-4e32-8f51-b7d571273e26",
   "metadata": {},
   "outputs": [
    {
     "data": {
      "text/plain": [
       "array([[1, 3],\n",
       "       [2, 4],\n",
       "       [3, 5]])"
      ]
     },
     "execution_count": 9,
     "metadata": {},
     "output_type": "execute_result"
    }
   ],
   "source": [
    "W.T"
   ]
  },
  {
   "cell_type": "code",
   "execution_count": 11,
   "id": "982c4331-5ec0-4562-9339-0fc7c75c649b",
   "metadata": {},
   "outputs": [
    {
     "data": {
      "text/plain": [
       "numpy.ndarray"
      ]
     },
     "execution_count": 11,
     "metadata": {},
     "output_type": "execute_result"
    }
   ],
   "source": [
    "type(W)"
   ]
  },
  {
   "cell_type": "code",
   "execution_count": 12,
   "id": "85cd816b-f404-471e-a661-dba331a1c847",
   "metadata": {},
   "outputs": [
    {
     "data": {
      "text/plain": [
       "tuple"
      ]
     },
     "execution_count": 12,
     "metadata": {},
     "output_type": "execute_result"
    }
   ],
   "source": [
    "type(W.shape)"
   ]
  },
  {
   "cell_type": "code",
   "execution_count": 20,
   "id": "8c195487-f4bd-428d-9d7f-24724f35a4c4",
   "metadata": {},
   "outputs": [
    {
     "data": {
      "text/plain": [
       "array([[ 0,  1,  2,  3],\n",
       "       [ 4,  5,  6,  7],\n",
       "       [ 8,  9, 10, 11]])"
      ]
     },
     "execution_count": 20,
     "metadata": {},
     "output_type": "execute_result"
    }
   ],
   "source": [
    "M=np.arange(12).reshape(3,4)\n",
    "M"
   ]
  },
  {
   "cell_type": "code",
   "execution_count": 29,
   "id": "bd1f13a0-1622-4e76-a17a-f57278a4d03d",
   "metadata": {},
   "outputs": [],
   "source": [
    "M[M>4]=-17"
   ]
  },
  {
   "cell_type": "code",
   "execution_count": 30,
   "id": "359e1b24-8920-441e-ba79-3db65e565d6a",
   "metadata": {},
   "outputs": [
    {
     "data": {
      "text/plain": [
       "array([[  0,   1,   2,   3],\n",
       "       [  4, -17, -17, -17],\n",
       "       [-17, -17, -17, -17]])"
      ]
     },
     "execution_count": 30,
     "metadata": {},
     "output_type": "execute_result"
    }
   ],
   "source": []
  },
  {
   "cell_type": "code",
   "execution_count": 32,
   "id": "50fd9483-22a7-4af0-8400-142b5910e999",
   "metadata": {},
   "outputs": [
    {
     "name": "stdout",
     "output_type": "stream",
     "text": [
      "0,1,3,6,10,-7,-24,-41,-58,-75,-92,-109,-109\n",
      "9\n"
     ]
    },
    {
     "data": {
      "text/plain": [
       "3"
      ]
     },
     "execution_count": 32,
     "metadata": {},
     "output_type": "execute_result"
    }
   ],
   "source": [
    "s=0\n",
    "for i in range(M.shape[0]):\n",
    "    for j in range(M.shape[1]):\n",
    "        s+=M[i,j]\n",
    "        print(s,',',sep='',end='') # Parameter sep und end über Namen setzen\n",
    "print(s)\n",
    "def func(x):\n",
    "    print(x*x)\n",
    "    return x\n",
    "func(3)\n"
   ]
  },
  {
   "cell_type": "code",
   "execution_count": null,
   "id": "2f5bcc43-02d9-4b0f-b29d-dbf33d384f2b",
   "metadata": {},
   "outputs": [],
   "source": []
  }
 ],
 "metadata": {
  "kernelspec": {
   "display_name": "Python 3 (ipykernel)",
   "language": "python",
   "name": "python3"
  },
  "language_info": {
   "codemirror_mode": {
    "name": "ipython",
    "version": 3
   },
   "file_extension": ".py",
   "mimetype": "text/x-python",
   "name": "python",
   "nbconvert_exporter": "python",
   "pygments_lexer": "ipython3",
   "version": "3.11.5"
  }
 },
 "nbformat": 4,
 "nbformat_minor": 5
}
